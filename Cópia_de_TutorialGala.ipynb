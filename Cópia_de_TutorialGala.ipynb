{
  "cells": [
    {
      "cell_type": "markdown",
      "metadata": {
        "id": "view-in-github",
        "colab_type": "text"
      },
      "source": [
        "<a href=\"https://colab.research.google.com/github/Andoresilva/DataScience/blob/main/C%C3%B3pia_de_TutorialGala.ipynb\" target=\"_parent\"><img src=\"https://colab.research.google.com/assets/colab-badge.svg\" alt=\"Open In Colab\"/></a>"
      ]
    },
    {
      "cell_type": "markdown",
      "source": [],
      "metadata": {
        "id": "V27CaFX5d1_j"
      },
      "id": "V27CaFX5d1_j"
    },
    {
      "cell_type": "markdown",
      "id": "beda70b9",
      "metadata": {
        "id": "beda70b9"
      },
      "source": [
        "# I WORKSHOP DO PGF - UNIFEI\n",
        "# Astrofísica computacional: Gala, um pacote para dinâmica galáctica"
      ]
    },
    {
      "cell_type": "markdown",
      "id": "85b650d2",
      "metadata": {
        "id": "85b650d2"
      },
      "source": [
        "<img src=\"https://gala.adrian.pw/en/latest/_static/Gala_Logo_RGB.png\" alt=\"image\" width=\"400\" height=\"auto\">\n",
        "<img src=\"https://www.astropy.org/images/astropy_project_logo.svg\" alt=\"image\" width=\"400\" height=\"auto\">\n"
      ]
    },
    {
      "cell_type": "markdown",
      "id": "b3245b06",
      "metadata": {
        "id": "b3245b06"
      },
      "source": [
        "gala user guide: https://gala.adrian.pw/en/latest/user_guide.html"
      ]
    },
    {
      "cell_type": "markdown",
      "id": "7c776dad",
      "metadata": {
        "id": "7c776dad"
      },
      "source": [
        "# Instalação de pacotes necessários"
      ]
    },
    {
      "cell_type": "code",
      "execution_count": null,
      "id": "11fa0b93",
      "metadata": {
        "collapsed": true,
        "id": "11fa0b93",
        "outputId": "3cb05ac7-a1c4-4a61-fa24-9b985d45f5d1",
        "colab": {
          "base_uri": "https://localhost:8080/"
        }
      },
      "outputs": [
        {
          "output_type": "stream",
          "name": "stdout",
          "text": [
            "Requirement already satisfied: astropy in /usr/local/lib/python3.10/dist-packages (5.3.4)\n",
            "Collecting gala\n",
            "  Downloading gala-1.7.1-cp310-cp310-manylinux_2_17_x86_64.manylinux2014_x86_64.whl (12.6 MB)\n",
            "\u001b[2K     \u001b[90m━━━━━━━━━━━━━━━━━━━━━━━━━━━━━━━━━━━━━━━━\u001b[0m \u001b[32m12.6/12.6 MB\u001b[0m \u001b[31m81.1 MB/s\u001b[0m eta \u001b[36m0:00:00\u001b[0m\n",
            "\u001b[?25hRequirement already satisfied: numpy in /usr/local/lib/python3.10/dist-packages (1.23.5)\n",
            "Requirement already satisfied: matplotlib in /usr/local/lib/python3.10/dist-packages (3.7.1)\n",
            "Requirement already satisfied: pyerfa>=2.0 in /usr/local/lib/python3.10/dist-packages (from astropy) (2.0.1.1)\n",
            "Requirement already satisfied: PyYAML>=3.13 in /usr/local/lib/python3.10/dist-packages (from astropy) (6.0.1)\n",
            "Requirement already satisfied: packaging>=19.0 in /usr/local/lib/python3.10/dist-packages (from astropy) (23.2)\n",
            "Requirement already satisfied: scipy>=1.8 in /usr/local/lib/python3.10/dist-packages (from gala) (1.11.3)\n",
            "Requirement already satisfied: cython>=0.29 in /usr/local/lib/python3.10/dist-packages (from gala) (3.0.5)\n",
            "Requirement already satisfied: contourpy>=1.0.1 in /usr/local/lib/python3.10/dist-packages (from matplotlib) (1.2.0)\n",
            "Requirement already satisfied: cycler>=0.10 in /usr/local/lib/python3.10/dist-packages (from matplotlib) (0.12.1)\n",
            "Requirement already satisfied: fonttools>=4.22.0 in /usr/local/lib/python3.10/dist-packages (from matplotlib) (4.44.0)\n",
            "Requirement already satisfied: kiwisolver>=1.0.1 in /usr/local/lib/python3.10/dist-packages (from matplotlib) (1.4.5)\n",
            "Requirement already satisfied: pillow>=6.2.0 in /usr/local/lib/python3.10/dist-packages (from matplotlib) (9.4.0)\n",
            "Requirement already satisfied: pyparsing>=2.3.1 in /usr/local/lib/python3.10/dist-packages (from matplotlib) (3.1.1)\n",
            "Requirement already satisfied: python-dateutil>=2.7 in /usr/local/lib/python3.10/dist-packages (from matplotlib) (2.8.2)\n",
            "Requirement already satisfied: six>=1.5 in /usr/local/lib/python3.10/dist-packages (from python-dateutil>=2.7->matplotlib) (1.16.0)\n",
            "Installing collected packages: gala\n",
            "Successfully installed gala-1.7.1\n"
          ]
        }
      ],
      "source": [
        "%pip install astropy gala numpy matplotlib"
      ]
    },
    {
      "cell_type": "markdown",
      "id": "a9e271cd",
      "metadata": {
        "id": "a9e271cd"
      },
      "source": [
        "# Estrutura interna do pacote: programação orientada à objetos"
      ]
    },
    {
      "cell_type": "markdown",
      "id": "69fa4305",
      "metadata": {
        "id": "69fa4305"
      },
      "source": [
        "- gala.coordinates\n",
        "- gala.integrate\n",
        "- gala.potential\n",
        "- gala.dynamics\n",
        "- gala.units\n",
        "- gala.utils"
      ]
    },
    {
      "cell_type": "markdown",
      "id": "043e389c",
      "metadata": {
        "id": "043e389c"
      },
      "source": [
        "## Importando os pacotes que vamos utilizar"
      ]
    },
    {
      "cell_type": "code",
      "execution_count": null,
      "id": "0bf7433d",
      "metadata": {
        "id": "0bf7433d"
      },
      "outputs": [],
      "source": [
        "import astropy\n",
        "import astropy.units as u\n",
        "import astropy.coordinates as coord\n",
        "\n",
        "import gala.dynamics as gd\n",
        "import gala.potential as gp\n",
        "import gala.integrate as gi\n",
        "from gala.units import UnitSystem\n",
        "\n",
        "import matplotlib.pyplot as plt\n",
        "import numpy as np\n",
        "\n",
        "%matplotlib inline"
      ]
    },
    {
      "cell_type": "markdown",
      "id": "0a53aae2",
      "metadata": {
        "id": "0a53aae2"
      },
      "source": [
        "# astropy.units: variáveis \"com unidades\""
      ]
    },
    {
      "cell_type": "code",
      "execution_count": null,
      "id": "47acefdf",
      "metadata": {
        "id": "47acefdf",
        "outputId": "188f5eca-c658-4810-eaf1-fc44870d1d32",
        "colab": {
          "base_uri": "https://localhost:8080/",
          "height": 72
        }
      },
      "outputs": [
        {
          "output_type": "stream",
          "name": "stdout",
          "text": [
            "10.0 kpc\n",
            "10.0\n"
          ]
        },
        {
          "output_type": "execute_result",
          "data": {
            "text/plain": [
              "Unit(\"kpc\")"
            ],
            "text/latex": "$\\mathrm{kpc}$"
          },
          "metadata": {},
          "execution_count": 3
        }
      ],
      "source": [
        "distance = 10 * u.kpc\n",
        "print(distance)\n",
        "print(distance.value)\n",
        "distance.unit"
      ]
    },
    {
      "cell_type": "code",
      "execution_count": null,
      "id": "80bc79a5",
      "metadata": {
        "id": "80bc79a5",
        "outputId": "28c80cf5-4c22-433a-d89c-1212331bbb7c",
        "colab": {
          "base_uri": "https://localhost:8080/"
        }
      },
      "outputs": [
        {
          "output_type": "stream",
          "name": "stdout",
          "text": [
            "[1. 1. 1. 1. 1. 1. 1. 1. 1. 1.] solMass\n",
            "[1. 1. 1. 1. 1. 1. 1. 1. 1. 1.]\n",
            "solMass\n"
          ]
        }
      ],
      "source": [
        "masses = np.ones(10) * u.Msun\n",
        "print(masses)\n",
        "print(masses.value)\n",
        "print(masses.unit)"
      ]
    },
    {
      "cell_type": "code",
      "execution_count": null,
      "id": "a7efe630",
      "metadata": {
        "id": "a7efe630",
        "outputId": "173149d8-2b9e-494c-9bc0-f5806d931e43",
        "colab": {
          "base_uri": "https://localhost:8080/"
        }
      },
      "outputs": [
        {
          "output_type": "stream",
          "name": "stdout",
          "text": [
            "1.0 kpc / yr\n",
            "1.0\n",
            "kpc / yr\n"
          ]
        }
      ],
      "source": [
        "velocity = distance / (10 * u.yr)\n",
        "print(velocity)\n",
        "print(velocity.value)\n",
        "print(velocity.unit)"
      ]
    },
    {
      "cell_type": "code",
      "execution_count": null,
      "id": "4fb2aabb",
      "metadata": {
        "id": "4fb2aabb",
        "outputId": "771bc2b0-cdc8-46a5-b2e5-b106aa4169e4",
        "colab": {
          "base_uri": "https://localhost:8080/",
          "height": 37
        }
      },
      "outputs": [
        {
          "output_type": "execute_result",
          "data": {
            "text/plain": [
              "<Quantity 2.06264806e+09 AU>"
            ],
            "text/latex": "$2.0626481 \\times 10^{9} \\; \\mathrm{AU}$"
          },
          "metadata": {},
          "execution_count": 6
        }
      ],
      "source": [
        "distance.to(u.au)"
      ]
    },
    {
      "cell_type": "markdown",
      "id": "bd099aa5",
      "metadata": {
        "id": "bd099aa5"
      },
      "source": [
        "# gala.units: sistemas de unidades"
      ]
    },
    {
      "cell_type": "code",
      "execution_count": null,
      "id": "b6c17ee8",
      "metadata": {
        "id": "b6c17ee8",
        "outputId": "22980902-f9b2-421b-9de7-1640e3e695ca",
        "colab": {
          "base_uri": "https://localhost:8080/"
        }
      },
      "outputs": [
        {
          "output_type": "execute_result",
          "data": {
            "text/plain": [
              "<UnitSystem (kpc, Gyr, 10000000000.0 solMass, rad)>"
            ]
          },
          "metadata": {},
          "execution_count": 7
        }
      ],
      "source": [
        "usys = UnitSystem(u.kpc, u.Gyr, u.rad, u.Msun * 1e10)\n",
        "usys"
      ]
    },
    {
      "cell_type": "code",
      "execution_count": null,
      "id": "920bca6c",
      "metadata": {
        "id": "920bca6c",
        "outputId": "e41a4c0c-285b-48d3-eb1e-7c09bac22465",
        "colab": {
          "base_uri": "https://localhost:8080/"
        }
      },
      "outputs": [
        {
          "output_type": "execute_result",
          "data": {
            "text/plain": [
              "astropy.units.core.PrefixUnit"
            ]
          },
          "metadata": {},
          "execution_count": 10
        }
      ],
      "source": [
        "type(usys['length'])\n"
      ]
    },
    {
      "cell_type": "code",
      "execution_count": null,
      "id": "652fb501",
      "metadata": {
        "id": "652fb501",
        "outputId": "09b92eb0-72c5-49fa-dcae-ca2784e7cb6d",
        "colab": {
          "base_uri": "https://localhost:8080/"
        }
      },
      "outputs": [
        {
          "output_type": "execute_result",
          "data": {
            "text/plain": [
              "306601.3937855506"
            ]
          },
          "metadata": {},
          "execution_count": 11
        }
      ],
      "source": [
        "usys.get_constant('c')"
      ]
    },
    {
      "cell_type": "markdown",
      "id": "b183ebae",
      "metadata": {
        "id": "b183ebae"
      },
      "source": [
        "# astropy.coordinates: sistemas de coordenadas"
      ]
    },
    {
      "cell_type": "markdown",
      "id": "3591db0f",
      "metadata": {
        "id": "3591db0f"
      },
      "source": [
        "<center>\n",
        "<img src=\"https://auger.org/education/Auger_Education/photos/galactic.png\" alt=\"image\" width=\"400\" height=\"auto\">\n",
        "<img src=\"https://astronomy.swin.edu.au/cms/cpg15x/albums/userpics/galacticcoords.2.jpg\" alt=\"image\" width=\"400\" height=\"auto\">\n",
        "</center>"
      ]
    },
    {
      "cell_type": "code",
      "execution_count": null,
      "id": "941ea2ae",
      "metadata": {
        "id": "941ea2ae"
      },
      "outputs": [],
      "source": [
        "coord.galactocentric_frame_defaults.set('v4.0');"
      ]
    },
    {
      "cell_type": "code",
      "execution_count": null,
      "id": "e69537a3",
      "metadata": {
        "id": "e69537a3",
        "outputId": "11927fbf-be94-44b8-ad78-50cca3624541",
        "colab": {
          "base_uri": "https://localhost:8080/"
        }
      },
      "outputs": [
        {
          "output_type": "execute_result",
          "data": {
            "text/plain": [
              "<ICRS Coordinate: (ra, dec, distance) in (deg, deg, kpc)\n",
              "    (100.68458, 41.26917, 10.)>"
            ]
          },
          "metadata": {},
          "execution_count": 13
        }
      ],
      "source": [
        "from_earth = coord.ICRS(ra=100.68458*u.degree, dec=41.26917*u.degree, distance = 10 * u.kpc)\n",
        "from_earth"
      ]
    },
    {
      "cell_type": "code",
      "execution_count": null,
      "id": "c4453b5c",
      "metadata": {
        "id": "c4453b5c",
        "outputId": "3f10ab2b-8749-46df-c02b-b50578b6cbea",
        "colab": {
          "base_uri": "https://localhost:8080/"
        }
      },
      "outputs": [
        {
          "output_type": "execute_result",
          "data": {
            "text/plain": [
              "<Galactic Coordinate: (l, b, distance) in (deg, deg, kpc)\n",
              "    (174.31037117, 15.98464447, 10.)>"
            ]
          },
          "metadata": {},
          "execution_count": 14
        }
      ],
      "source": [
        "galactic = coord.Galactic()\n",
        "from_earth.transform_to(galactic)"
      ]
    },
    {
      "cell_type": "code",
      "execution_count": null,
      "id": "96e9b467",
      "metadata": {
        "id": "96e9b467"
      },
      "outputs": [],
      "source": [
        "galcen = coord.Galactocentric()\n",
        "from_GalCenter = from_earth.transform_to(galcen)"
      ]
    },
    {
      "cell_type": "code",
      "execution_count": null,
      "id": "ab41c614",
      "metadata": {
        "id": "ab41c614",
        "outputId": "a8d180ec-b402-4534-c433-0234a5afcddf",
        "colab": {
          "base_uri": "https://localhost:8080/"
        }
      },
      "outputs": [
        {
          "output_type": "execute_result",
          "data": {
            "text/plain": [
              "<CartesianRepresentation (x, y, z) in kpc\n",
              "    (-17.6808882, 0.95306936, 2.79907391)>"
            ]
          },
          "metadata": {},
          "execution_count": 16
        }
      ],
      "source": [
        "from_GalCenter.data"
      ]
    },
    {
      "cell_type": "code",
      "execution_count": null,
      "id": "d7884fc8",
      "metadata": {
        "id": "d7884fc8",
        "outputId": "ff33ab0d-6f9c-4d1f-efb9-1b7175c1f57d",
        "colab": {
          "base_uri": "https://localhost:8080/",
          "height": 37
        }
      },
      "outputs": [
        {
          "output_type": "execute_result",
          "data": {
            "text/plain": [
              "<Quantity 2.79907391 kpc>"
            ],
            "text/latex": "$2.7990739 \\; \\mathrm{kpc}$"
          },
          "metadata": {},
          "execution_count": 17
        }
      ],
      "source": [
        "from_GalCenter.data.z"
      ]
    },
    {
      "cell_type": "code",
      "execution_count": null,
      "id": "a5e1ad9d",
      "metadata": {
        "id": "a5e1ad9d",
        "outputId": "b19ae987-8905-4077-e7f6-6aa7bf33c91a",
        "colab": {
          "base_uri": "https://localhost:8080/",
          "height": 37
        }
      },
      "outputs": [
        {
          "output_type": "execute_result",
          "data": {
            "text/plain": [
              "<Quantity 5.77350438e+08 AU>"
            ],
            "text/latex": "$5.7735044 \\times 10^{8} \\; \\mathrm{AU}$"
          },
          "metadata": {},
          "execution_count": 18
        }
      ],
      "source": [
        "from_GalCenter.data.z.to(u.au)"
      ]
    },
    {
      "cell_type": "markdown",
      "id": "76f40cf1",
      "metadata": {
        "id": "76f40cf1"
      },
      "source": [
        "# gala.potential: potenciais"
      ]
    },
    {
      "cell_type": "code",
      "execution_count": null,
      "id": "0881e44c",
      "metadata": {
        "id": "0881e44c",
        "outputId": "82feddc9-8d97-4faf-eb85-d2dd009431f1",
        "colab": {
          "base_uri": "https://localhost:8080/"
        }
      },
      "outputs": [
        {
          "output_type": "execute_result",
          "data": {
            "text/plain": [
              "<CompositePotential disk,bulge,nucleus,halo>"
            ]
          },
          "metadata": {},
          "execution_count": 19
        }
      ],
      "source": [
        "MW = gp.MilkyWayPotential(units=usys)\n",
        "MW"
      ]
    },
    {
      "cell_type": "code",
      "execution_count": null,
      "id": "1aabcc41",
      "metadata": {
        "id": "1aabcc41",
        "outputId": "d51c6bd3-4f51-4528-8605-f2e09efc2959",
        "colab": {
          "base_uri": "https://localhost:8080/",
          "height": 342
        }
      },
      "outputs": [
        {
          "output_type": "display_data",
          "data": {
            "text/plain": [
              "<Figure size 1000x500 with 1 Axes>"
            ],
            "image/png": "[encoded data removed]"
          },
          "metadata": {}
        }
      ],
      "source": [
        "x_c = np.linspace(-15,15,200)\n",
        "y_c = np.linspace(-15,15,200)\n",
        "z_c = np.linspace(-5,5,200)\n",
        "fig, ax = plt.subplots(figsize=(10,5))\n",
        "\n",
        "ax.set_xlabel('$x$ [kpc]')\n",
        "ax.set_ylabel('$z$ [kpc]')\n",
        "ax.set_aspect('equal')\n",
        "\n",
        "fig = MW.plot_contours((x_c,1.,z_c), ax=ax)"
      ]
    },
    {
      "cell_type": "code",
      "execution_count": null,
      "id": "427475b4",
      "metadata": {
        "id": "427475b4",
        "outputId": "69879b14-a326-4d55-9c92-c27fbf1e247c",
        "colab": {
          "base_uri": "https://localhost:8080/"
        }
      },
      "outputs": [
        {
          "output_type": "execute_result",
          "data": {
            "text/plain": [
              "<HernquistPotential: m=0.50, c=0.70 (kpc,Gyr,10000000000.0 solMass,rad)>"
            ]
          },
          "metadata": {},
          "execution_count": 28
        }
      ],
      "source": [
        "disk = gp.MiyamotoNagaiPotential(m=1, a=6.5, b=0.27, units=usys)\n",
        "bulge = gp.HernquistPotential(m=0.5, c=0.7, units=usys)\n",
        "potential = gp.CCompositePotential(disk=disk, bulge=bulge)\n",
        "potential['bulge']"
      ]
    },
    {
      "cell_type": "code",
      "execution_count": null,
      "id": "6a54ceb2",
      "metadata": {
        "id": "6a54ceb2",
        "outputId": "251c779e-0a79-4c85-85b5-c2dc34d9f1ba",
        "colab": {
          "base_uri": "https://localhost:8080/",
          "height": 931
        }
      },
      "outputs": [
        {
          "output_type": "display_data",
          "data": {
            "text/plain": [
              "<Figure size 500x500 with 1 Axes>"
            ],
            "image/png": "[encoded data removed]"
          },
          "metadata": {}
        },
        {
          "output_type": "display_data",
          "data": {
            "text/plain": [
              "<Figure size 500x500 with 1 Axes>"
            ],
            "image/png": "[encoded data removed]"
          },
          "metadata": {}
        }
      ],
      "source": [
        "x_c = np.linspace(-15,15,100)\n",
        "y_c = np.linspace(-15,15,100)\n",
        "z_c = np.linspace(-15,15,100)\n",
        "\n",
        "fig1, ax1 = plt.subplots(figsize=(5,5))\n",
        "fig2, ax2 = plt.subplots(figsize=(5,5))\n",
        "\n",
        "ax1.set_xlabel('$x$ [kpc]')\n",
        "ax1.set_ylabel('$y$ [kpc]')\n",
        "ax1.set_aspect('equal')\n",
        "ax2.set_xlabel('$x$ [kpc]')\n",
        "ax2.set_ylabel('$z$ [kpc]')\n",
        "ax2.set_aspect('equal')\n",
        "\n",
        "fig1 = potential.plot_contours(grid=(x_c,y_c,1.), ax=ax1, cmap='Reds')\n",
        "fig2 = potential.plot_contours(grid=(x_c,1.,z_c), ax=ax2, cmap='Greens')"
      ]
    },
    {
      "cell_type": "markdown",
      "id": "b41c8cdd",
      "metadata": {
        "id": "b41c8cdd"
      },
      "source": [
        "# gala.dynamics: dinâmica"
      ]
    },
    {
      "cell_type": "code",
      "execution_count": null,
      "id": "0039c2cd",
      "metadata": {
        "id": "0039c2cd",
        "outputId": "4cdf85cf-dd30-4ab2-f21a-f14b7a14792b",
        "colab": {
          "base_uri": "https://localhost:8080/"
        }
      },
      "outputs": [
        {
          "output_type": "execute_result",
          "data": {
            "text/plain": [
              "<PhaseSpacePosition cartesian, dim=3, shape=()>"
            ]
          },
          "metadata": {},
          "execution_count": 45
        }
      ],
      "source": [
        "w = gd.PhaseSpacePosition(pos=[10,0,2.0] * u.kpc,\n",
        "                             vel=[0,175,0] * u.km/u.s)\n",
        "w"
      ]
    },
    {
      "cell_type": "code",
      "execution_count": null,
      "id": "dd6c4846",
      "metadata": {
        "id": "dd6c4846",
        "outputId": "4615644b-c570-4649-e5a9-4e4b5a6c37bc",
        "colab": {
          "base_uri": "https://localhost:8080/",
          "height": 37
        }
      },
      "outputs": [
        {
          "output_type": "execute_result",
          "data": {
            "text/plain": [
              "<Distance 10.19803903 kpc>"
            ],
            "text/latex": "$10.198039 \\; \\mathrm{kpc}$"
          },
          "metadata": {},
          "execution_count": 46
        }
      ],
      "source": [
        "w_spherical = w.represent_as('spherical')\n",
        "w_spherical.distance"
      ]
    },
    {
      "cell_type": "code",
      "execution_count": null,
      "id": "79bf7506",
      "metadata": {
        "id": "79bf7506",
        "outputId": "3af89a19-7ef3-4bc4-fe30-a74ff99acc2d",
        "colab": {
          "base_uri": "https://localhost:8080/"
        }
      },
      "outputs": [
        {
          "output_type": "execute_result",
          "data": {
            "text/plain": [
              "<Galactic Coordinate: (l, b, distance) in (deg, deg, kpc)\n",
              "    (6.27063602e-05, 6.37953188, 18.22973262)\n",
              " (pm_l_cosb, pm_b, radial_velocity) in (mas / yr, mas / yr, km / s)\n",
              "    (-0.81696418, -0.07328787, -13.66841948)>"
            ]
          },
          "metadata": {},
          "execution_count": 47
        }
      ],
      "source": [
        "w_galactic = w.to_coord_frame(galactic)\n",
        "w_galactic"
      ]
    },
    {
      "cell_type": "code",
      "execution_count": null,
      "id": "b62926e6",
      "metadata": {
        "id": "b62926e6",
        "outputId": "5e5b5be1-c360-450b-ec1c-317cc0ed59ef",
        "colab": {
          "base_uri": "https://localhost:8080/"
        }
      },
      "outputs": [
        {
          "output_type": "execute_result",
          "data": {
            "text/plain": [
              "<Galactocentric Coordinate (galcen_coord=<ICRS Coordinate: (ra, dec) in deg\n",
              "    (266.4051, -28.936175)>, galcen_distance=8.122 kpc, galcen_v_sun=(12.9, 245.6, 7.78) km / s, z_sun=20.8 pc, roll=0.0 deg): (x, y, z) in kpc\n",
              "    (10., 0., 2.)\n",
              " (v_x, v_y, v_z) in km / s\n",
              "    (0., 175., 0.)>"
            ]
          },
          "metadata": {},
          "execution_count": 48
        }
      ],
      "source": [
        "w_galcen = w.to_coord_frame(galcen)\n",
        "w_galcen"
      ]
    },
    {
      "cell_type": "code",
      "execution_count": null,
      "id": "8144154c",
      "metadata": {
        "id": "8144154c",
        "outputId": "17e6e803-8838-4da4-a85f-7b4b597d90a1",
        "colab": {
          "base_uri": "https://localhost:8080/"
        }
      },
      "outputs": [
        {
          "output_type": "stream",
          "name": "stdout",
          "text": [
            "(10., 0., 2.) kpc\n",
            "(0., 175., 0.) km / s\n",
            "None\n",
            "10.0 kpc\n",
            "0.0 km / s\n"
          ]
        }
      ],
      "source": [
        "print(w.pos)\n",
        "print(w.vel)\n",
        "print(w.frame)\n",
        "print(w.pos.x)\n",
        "print(w.vel.d_x)"
      ]
    },
    {
      "cell_type": "code",
      "execution_count": null,
      "id": "baae1c0d",
      "metadata": {
        "id": "baae1c0d"
      },
      "outputs": [],
      "source": [
        "orbit = MW.integrate_orbit(w, dt=0.001, n_steps=300)"
      ]
    },
    {
      "cell_type": "code",
      "execution_count": null,
      "id": "0ce9a771",
      "metadata": {
        "collapsed": true,
        "id": "0ce9a771",
        "outputId": "d11d3bad-920d-4d2f-959a-096c8d7ef687",
        "colab": {
          "base_uri": "https://localhost:8080/"
        }
      },
      "outputs": [
        {
          "output_type": "stream",
          "name": "stdout",
          "text": [
            "pos=[(10.        ,  0.        ,  2.        ),\n",
            " ( 9.99755306,  0.17897463,  1.99918622),\n",
            " ( 9.99021234,  0.35786165,  1.99674487),\n",
            " ( 9.97797815,  0.53657338,  1.99267592),\n",
            " ( 9.96085104,  0.71502199,  1.98697932),\n",
            " ( 9.93883175,  0.89311943,  1.97965502),\n",
            " ( 9.91192127,  1.07077733,  1.97070294),\n",
            " ( 9.88012082,  1.24790697,  1.960123  ),\n",
            " ( 9.84343188,  1.42441918,  1.94791509),\n",
            " ( 9.80185621,  1.60022424,  1.93407912),\n",
            " ( 9.75539584,  1.77523183,  1.918615  ),\n",
            " ( 9.70405314,  1.94935097,  1.90152264),\n",
            " ( 9.64783078,  2.12248988,  1.88280197),\n",
            " ( 9.58673184,  2.29455595,  1.86245293),\n",
            " ( 9.52075977,  2.46545566,  1.8404755 ),\n",
            " ( 9.44991845,  2.63509445,  1.81686971),\n",
            " ( 9.37421226,  2.80337668,  1.79163561),\n",
            " ( 9.29364606,  2.97020551,  1.76477335),\n",
            " ( 9.20822531,  3.13548285,  1.73628313),\n",
            " ( 9.11795604,  3.29910923,  1.70616525),\n",
            " ( 9.02284499,  3.46098373,  1.67442012),\n",
            " ( 8.92289961,  3.62100387,  1.64104828),\n",
            " ( 8.81812817,  3.77906555,  1.60605042),\n",
            " ( 8.7085398 ,  3.9350629 ,  1.56942739),\n",
            " ( 8.59414458,  4.08888822,  1.53118026),\n",
            " ( 8.47495364,  4.24043185,  1.49131032),\n",
            " ( 8.35097924,  4.38958208,  1.44981913),\n",
            " ( 8.2222349 ,  4.53622506,  1.40670856),\n",
            " ( 8.08873547,  4.68024464,  1.36198083),\n",
            " ( 7.95049727,  4.82152231,  1.31563856),\n",
            " ( 7.80753825,  4.95993707,  1.26768485),\n",
            " ( 7.65987808,  5.09536531,  1.21812334),\n",
            " ( 7.50753836,  5.2276807 ,  1.1669583 ),\n",
            " ( 7.35054275,  5.35675408,  1.11419474),\n",
            " ( 7.18891718,  5.48245335,  1.05983852),\n",
            " ( 7.02269004,  5.60464334,  1.00389653),\n",
            " ( 6.8518924 ,  5.72318573,  0.94637691),\n",
            " ( 6.67655825,  5.8379389 ,  0.88728926),\n",
            " ( 6.49672475,  5.94875787,  0.82664503),\n",
            " ( 6.31243256,  6.05549422,  0.76445793),\n",
            " ( 6.1237261 ,  6.15799597,  0.70074463),\n",
            " ( 5.93065392,  6.25610757,  0.63552559),\n",
            " ( 5.73326911,  6.34966989,  0.56882643),\n",
            " ( 5.53162971,  6.43852018,  0.50067984),\n",
            " ( 5.3257992 ,  6.52249225,  0.43112866),\n",
            " ( 5.11584709,  6.60141661,  0.36023072),\n",
            " ( 4.90184962,  6.67512089,  0.28806671),\n",
            " ( 4.68389059,  6.7434305 ,  0.21475292),\n",
            " ( 4.46206243,  6.80616968,  0.1404611 ),\n",
            " ( 4.23646756,  6.86316336,  0.06544421),\n",
            " ( 4.00722003,  6.91423964, -0.00994523),\n",
            " ( 3.77444692,  6.95923273, -0.08527539),\n",
            " ( 3.538289  ,  6.99798501, -0.16010494),\n",
            " ( 3.2989003 ,  7.03034747, -0.23405085),\n",
            " ( 3.05644707,  7.05617906, -0.30680853),\n",
            " ( 2.81110687,  7.07534573, -0.37813848),\n",
            " ( 2.56306796,  7.08771995, -0.44784632),\n",
            " ( 2.31252892,  7.09318048, -0.51576713),\n",
            " ( 2.05969842,  7.09161246, -0.58175513),\n",
            " ( 1.80479514,  7.0829078 , -0.64567728),\n",
            " ( 1.54804765,  7.06696556, -0.70740933),\n",
            " ( 1.28969433,  7.04369255, -0.76683346),\n",
            " ( 1.02998322,  7.01300393, -0.82383675),\n",
            " ( 0.76917187,  6.97482393, -0.8783104 ),\n",
            " ( 0.50752709,  6.92908651, -0.93014924),\n",
            " ( 0.2453247 ,  6.87573615, -0.9792515 ),\n",
            " (-0.01715089,  6.81472859, -1.02551886),\n",
            " (-0.27960714,  6.74603159, -1.06885652),\n",
            " (-0.54174387,  6.66962566, -1.1091734 ),\n",
            " (-0.80325395,  6.58550484, -1.14638245),\n",
            " (-1.06382402,  6.49367732, -1.18040093),\n",
            " (-1.32313532,  6.39416613, -1.21115082),\n",
            " (-1.58086461,  6.28700975, -1.23855913),\n",
            " (-1.83668519,  6.17226255, -1.26255838),\n",
            " (-2.09026803,  6.04999531, -1.28308692),\n",
            " (-2.34128291,  5.92029546, -1.30008935),\n",
            " (-2.58939971,  5.78326738, -1.31351692),\n",
            " (-2.83428972,  5.63903245, -1.32332781),\n",
            " (-3.07562697,  5.48772904, -1.32948754),\n",
            " (-3.31308963,  5.32951234, -1.33196917),\n",
            " (-3.54636141,  5.16455409, -1.33075362),\n",
            " (-3.77513293,  4.99304213, -1.3258298 ),\n",
            " (-3.99910306,  4.81517978, -1.31719478),\n",
            " (-4.21798027,  4.63118523, -1.30485391),\n",
            " (-4.43148384,  4.44129063, -1.28882079),\n",
            " (-4.63934505,  4.24574117, -1.26911731),\n",
            " (-4.84130821,  4.04479406, -1.24577353),\n",
            " (-5.03713165,  3.83871736, -1.21882758),\n",
            " (-5.22658854,  3.62778883, -1.18832547),\n",
            " (-5.40946761,  3.4122946 , -1.15432089),\n",
            " (-5.5855737 ,  3.19252798, -1.11687495),\n",
            " (-5.7547282 ,  2.96878806, -1.07605594),\n",
            " (-5.91676938,  2.74137847, -1.03193904),\n",
            " (-6.07155253,  2.51060607, -0.98460602),\n",
            " (-6.21895002,  2.27677967, -0.93414507),\n",
            " (-6.35885122,  2.04020885, -0.88065055),\n",
            " (-6.49116234,  1.80120279, -0.82422294),\n",
            " (-6.61580616,  1.56006917, -0.76496884),\n",
            " (-6.7327217 ,  1.31711314, -0.7030013 ),\n",
            " (-6.84186378,  1.07263641, -0.63844036),\n",
            " (-6.94320266,  0.82693632, -0.57141426),\n",
            " (-7.03672357,  0.58030512, -0.5020614 ),\n",
            " (-7.12242631,  0.33302916, -0.43053377),\n",
            " (-7.20032498,  0.0853883 , -0.35700267),\n",
            " (-7.27044786, -0.16234477, -0.28166841),\n",
            " (-7.33283764, -0.40990516, -0.20477599),\n",
            " (-7.38755216, -0.65703651, -0.12663882),\n",
            " (-7.43466577, -0.90349185, -0.04766519),\n",
            " (-7.47427117, -1.14903475,  0.03163819),\n",
            " (-7.50648015, -1.39344059,  0.11072632),\n",
            " (-7.53142176, -1.63649738,  0.18912083),\n",
            " (-7.54923802, -1.8780059 ,  0.26646946),\n",
            " (-7.56007926, -2.11777927,  0.34253607),\n",
            " (-7.56410057, -2.35564219,  0.41716588),\n",
            " (-7.56145932, -2.59143023,  0.49025585),\n",
            " (-7.55231364, -2.8249891 ,  0.56173539),\n",
            " (-7.53682135, -3.05617398,  0.63155469),\n",
            " (-7.51513923, -3.28484889,  0.69967769),\n",
            " (-7.48742257, -3.51088613,  0.76607783),\n",
            " (-7.45382482, -3.73416568,  0.83073527),\n",
            " (-7.41449728, -3.95457477,  0.89363521),\n",
            " (-7.36958899, -4.17200733,  0.95476657),\n",
            " (-7.31924656, -4.38636356,  1.01412127),\n",
            " (-7.2636141 , -4.59754952,  1.07169353),\n",
            " (-7.20283318, -4.80547672,  1.12747947),\n",
            " (-7.13704278, -5.01006178,  1.18147677),\n",
            " (-7.0663793 , -5.21122604,  1.2336844 ),\n",
            " (-6.99097659, -5.40889526,  1.28410239),\n",
            " (-6.91096593, -5.60299933,  1.33273171),\n",
            " (-6.8264761 , -5.79347195,  1.37957409),\n",
            " (-6.73763342, -5.98025042,  1.42463191),\n",
            " (-6.6445618 , -6.16327533,  1.46790814),\n",
            " (-6.54738282, -6.34249037,  1.50940622),\n",
            " (-6.44621574, -6.51784213,  1.54913   ),\n",
            " (-6.34117763, -6.68927984,  1.58708368),\n",
            " (-6.2323834 , -6.85675524,  1.6232718 ),\n",
            " (-6.1199459 , -7.02022237,  1.65769911),\n",
            " (-6.00397597, -7.17963744,  1.69037061),\n",
            " (-5.88458253, -7.33495863,  1.72129147),\n",
            " (-5.76187266, -7.48614598,  1.75046703),\n",
            " (-5.63595166, -7.63316126,  1.77790273),\n",
            " (-5.50692316, -7.77596783,  1.80360415),\n",
            " (-5.37488916, -7.91453054,  1.82757693),\n",
            " (-5.23995014, -8.04881558,  1.84982678),\n",
            " (-5.1022051 , -8.17879046,  1.87035947),\n",
            " (-4.96175168, -8.30442382,  1.88918078),\n",
            " (-4.8186862 , -8.42568542,  1.90629654),\n",
            " (-4.67310376, -8.542546  ,  1.92171259),\n",
            " (-4.5250983 , -8.65497724,  1.93543475),\n",
            " (-4.37476268, -8.76295167,  1.94746887),\n",
            " (-4.22218876, -8.86644263,  1.95782076),\n",
            " (-4.06746745, -8.96542415,  1.96649622),\n",
            " (-3.91068881, -9.05987096,  1.97350104),\n",
            " (-3.75194212, -9.14975839,  1.97884096),\n",
            " (-3.59131593, -9.23506233,  1.98252173),\n",
            " (-3.42889814, -9.31575919,  1.98454903),\n",
            " (-3.2647761 , -9.39182584,  1.98492852),\n",
            " (-3.09903662, -9.46323962,  1.98366585),\n",
            " (-2.93176611, -9.52997821,  1.98076659),\n",
            " (-2.76305059, -9.59201969,  1.97623633),\n",
            " (-2.59297581, -9.64934244,  1.97008059),\n",
            " (-2.42162729, -9.70192516,  1.96230489),\n",
            " (-2.24909039, -9.74974682,  1.95291469),\n",
            " (-2.07545041, -9.79278661,  1.94191546),\n",
            " (-1.90079261, -9.83102399,  1.92931263),\n",
            " (-1.72520235, -9.86443858,  1.91511162),\n",
            " (-1.5487651 , -9.89301024,  1.89931785),\n",
            " (-1.37156655, -9.91671895,  1.88193673),\n",
            " (-1.19369268, -9.9355449 ,  1.86297366),\n",
            " (-1.0152298 , -9.94946842,  1.84243408),\n",
            " (-0.8362647 , -9.95846997,  1.8203234 ),\n",
            " (-0.65688465, -9.96253017,  1.79664711),\n",
            " (-0.47717751, -9.96162978,  1.77141071),\n",
            " (-0.29723184, -9.95574968,  1.74461974),\n",
            " (-0.11713694, -9.94487091,  1.71627982),\n",
            " ( 0.06301707, -9.92897466,  1.68639662),\n",
            " ( 0.24313911, -9.90804225,  1.65497593),\n",
            " ( 0.42313711, -9.88205519,  1.62202362),\n",
            " ( 0.6029179 , -9.85099517,  1.58754567),\n",
            " ( 0.78238709, -9.81484407,  1.55154824),\n",
            " ( 0.96144902, -9.773584  ,  1.51403761),\n",
            " ( 1.14000664, -9.72719731,  1.47502028),\n",
            " ( 1.31796139, -9.67566662,  1.43450295),\n",
            " ( 1.49521313, -9.61897487,  1.39249259),\n",
            " ( 1.67166002, -9.55710535,  1.34899642),\n",
            " ( 1.84719839, -9.49004175,  1.304022  ),\n",
            " ( 2.02172267, -9.41776818,  1.25757728),\n",
            " ( 2.19512521, -9.34026928,  1.20967062),\n",
            " ( 2.36729624, -9.25753022,  1.16031089),\n",
            " ( 2.53812364, -9.16953684,  1.10950752),\n",
            " ( 2.70749293, -9.07627568,  1.05727062),\n",
            " ( 2.87528704, -8.97773408,  1.00361111),\n",
            " ( 3.04138623, -8.8739003 ,  0.94854082),\n",
            " ( 3.20566793, -8.7647636 ,  0.89207274),\n",
            " ( 3.36800661, -8.6503144 ,  0.83422122),\n",
            " ( 3.52827364, -8.53054441,  0.77500233),\n",
            " ( 3.68633713, -8.40544678,  0.71443427),\n",
            " ( 3.84206182, -8.2750163 ,  0.65253805),\n",
            " ( 3.99530893, -8.13924964,  0.58933831),\n",
            " ( 4.14593606, -7.99814552,  0.52486463),\n",
            " ( 4.29379705, -7.85170512,  0.45915349),\n",
            " ( 4.43874197, -7.69993235,  0.39225129),\n",
            " ( 4.5806171 , -7.54283436,  0.32421902),\n",
            " ( 4.719265  , -7.38042215,  0.25513982),\n",
            " ( 4.8545248 , -7.21271131,  0.18513074),\n",
            " ( 4.98623272, -7.0397232 ,  0.11435941),\n",
            " ( 5.11422295, -6.86148634,  0.04306259),\n",
            " ( 5.23832894, -6.67803819, -0.02844808),\n",
            " ( 5.35838468, -6.48942662, -0.09981366),\n",
            " ( 5.47422562, -6.29571059, -0.17068342),\n",
            " ( 5.58568873, -6.09695977, -0.24075753),\n",
            " ( 5.69261216, -5.89325375, -0.30979547),\n",
            " ( 5.79483479, -5.68468124, -0.3776046 ),\n",
            " ( 5.89219597, -5.47133969, -0.44402558),\n",
            " ( 5.98453538, -5.25333506, -0.50892104),\n",
            " ( 6.07169305, -5.03078181, -0.57216791),\n",
            " ( 6.15350952, -4.80380302, -0.63365251),\n",
            " ( 6.22982599, -4.57253061, -0.69326745),\n",
            " ( 6.30048468, -4.33710553, -0.75090965),\n",
            " ( 6.36532912, -4.09767806, -0.80647906),\n",
            " ( 6.42420457, -3.85440806, -0.85987789),\n",
            " ( 6.47695845, -3.60746522, -0.91101014),\n",
            " ( 6.52344088, -3.35702938, -0.95978127),\n",
            " ( 6.56350518, -3.1032907 , -1.00609818),\n",
            " ( 6.59700853, -2.84644994, -1.04986911),\n",
            " ( 6.62381255, -2.58671858, -1.09100378),\n",
            " ( 6.64378403, -2.32431899, -1.12941352),\n",
            " ( 6.65679565, -2.05948451, -1.1650115 ),\n",
            " ( 6.66272674, -1.79245944, -1.19771293),\n",
            " ( 6.66146413, -1.52349907, -1.2274354 ),\n",
            " ( 6.6529029 , -1.25286948, -1.25409921),\n",
            " ( 6.63694735, -0.98084739, -1.27762768),\n",
            " ( 6.61351175, -0.70771986, -1.2979476 ),\n",
            " ( 6.58252133, -0.43378388, -1.31498957),\n",
            " ( 6.54391309, -0.15934589, -1.32868847),\n",
            " ( 6.49763669,  0.11527882, -1.33898383),\n",
            " ( 6.44365525,  0.38976683, -1.34582032),\n",
            " ( 6.3819462 ,  0.66378741, -1.34914815),\n",
            " ( 6.31250195,  0.93700345, -1.34892351),\n",
            " ( 6.23533061,  1.20907251, -1.34510897),\n",
            " ( 6.15045656,  1.47964796, -1.33767387),\n",
            " ( 6.05792093,  1.74838023, -1.3265947 ),\n",
            " ( 5.95778199,  2.0149181 , -1.31185544),\n",
            " ( 5.85011541,  2.27891013, -1.29344784),\n",
            " ( 5.73501437,  2.54000607, -1.27137167),\n",
            " ( 5.61258961,  2.79785836, -1.24563497),\n",
            " ( 5.48296918,  3.05212365, -1.21625419),\n",
            " ( 5.34629828,  3.30246425, -1.18325432),\n",
            " ( 5.20273871,  3.54854965, -1.14666896),\n",
            " ( 5.05246835,  3.79005793, -1.10654033),\n",
            " ( 4.89568048,  4.02667716, -1.06291934),\n",
            " ( 4.73258291,  4.25810669, -1.01586548),\n",
            " ( 4.5633971 ,  4.48405836, -0.96544686),\n",
            " ( 4.38835707,  4.70425761, -0.91174017),\n",
            " ( 4.20770839,  4.91844446, -0.85483076),\n",
            " ( 4.02170695,  5.12637439, -0.79481279),\n",
            " ( 3.83061778,  5.32781912, -0.7317896 ),\n",
            " ( 3.63471384,  5.52256722, -0.6658744 ),\n",
            " ( 3.43427479,  5.71042469, -0.59719151),\n",
            " ( 3.22958577,  5.89121542, -0.52587854),\n",
            " ( 3.02093623,  6.0647816 , -0.45208997),\n",
            " ( 2.80861883,  6.23098427, -0.37600352),\n",
            " ( 2.59292843,  6.38970386, -0.29783084),\n",
            " ( 2.37416117,  6.54084118, -0.21783579),\n",
            " ( 2.15261369,  6.68431897, -0.13636322),\n",
            " ( 1.92858252,  6.82008439, -0.05387477),\n",
            " ( 1.70236331,  6.9481122 ,  0.02903853),\n",
            " ( 1.47424944,  7.06840703,  0.11172533),\n",
            " ( 1.24452962,  7.18100202,  0.19361085),\n",
            " ( 1.01348515,  7.2859537 ,  0.27427742),\n",
            " ( 0.78138775,  7.3833359 ,  0.35345088),\n",
            " ( 0.54849841,  7.47323496,  0.43095544),\n",
            " ( 0.31506684,  7.55574632,  0.50667655),\n",
            " ( 0.08133148,  7.63097218,  0.58053758),\n",
            " (-0.15248039,  7.69901987,  0.65248594),\n",
            " (-0.3861523 ,  7.76000057,  0.72248501),\n",
            " (-0.61947821,  7.81402837,  0.79050915),\n",
            " (-0.85226213,  7.86121948,  0.85654062),\n",
            " (-1.08431762,  7.9016916 ,  0.92056752),\n",
            " (-1.31546738,  7.93556341,  0.98258244),\n",
            " (-1.54554277,  7.9629541 ,  1.04258148),\n",
            " (-1.7743834 ,  7.98398303,  1.10056354),\n",
            " (-2.00183666,  7.99876939,  1.15652978),\n",
            " (-2.22775733,  8.00743196,  1.21048326),\n",
            " (-2.45200715,  8.01008885,  1.2624286 ),\n",
            " (-2.67445446,  8.00685738,  1.31237169),\n",
            " (-2.89497378,  7.99785385,  1.36031956),\n",
            " (-3.1134455 ,  7.98319348,  1.40628014),\n",
            " (-3.32975551,  7.96299025,  1.45026215),\n",
            " (-3.54379488,  7.93735687,  1.49227496),\n",
            " (-3.75545956,  7.90640469,  1.53232853),\n",
            " (-3.96465009,  7.87024366,  1.57043326),\n",
            " (-4.17127131,  7.82898227,  1.60659996),\n",
            " (-4.37523211,  7.7827276 ,  1.64083976),\n",
            " (-4.57644518,  7.73158523,  1.67316407),\n",
            " (-4.77482679,  7.67565929,  1.70358452),\n",
            " (-4.97029651,  7.61505243,  1.73211292),\n",
            " (-5.1627771 ,  7.54986587,  1.75876121),\n",
            " (-5.35219422,  7.48019941,  1.78354144),\n",
            " (-5.53847631,  7.40615144,  1.80646574),\n",
            " (-5.72155437,  7.32781898,  1.82754628)] kpc\n",
            "vel=[(   0.        ,  178.97462888,   0.        ),\n",
            " (  -4.89383176,  178.93082505,  -1.62756609),\n",
            " (  -9.78745243,  178.79937631,  -3.25515081),\n",
            " ( -14.68064848,  178.58017088,  -4.88277217),\n",
            " ( -19.57320151,  178.27302228,  -6.51044697),\n",
            " ( -24.46488575,  177.87766898,  -8.13819013),\n",
            " ( -29.3554656 ,  177.39377404,  -9.76601404),\n",
            " ( -34.24469298,  176.82092453, -11.39392795),\n",
            " ( -39.13230472,  176.15863088, -13.0219372 ),\n",
            " ( -44.01801985,  175.4063261 , -14.65004254),\n",
            " ( -48.90153667,  174.56336492, -16.27823934),\n",
            " ( -53.7825299 ,  173.6290227 , -17.90651672),\n",
            " ( -58.66064744,  172.60249439, -19.53485672),\n",
            " ( -63.53550723,  171.4828932 , -21.16323334),\n",
            " ( -68.40669369,  170.2692493 , -22.79161144),\n",
            " ( -73.27375414,  168.96050834, -24.41994566),\n",
            " ( -78.13619488,  167.55552987, -26.04817912),\n",
            " ( -82.99347707,  166.05308563, -27.67624209),\n",
            " ( -87.84501234,  164.45185786, -29.3040504 ),\n",
            " ( -92.69015802,  162.75043735, -30.93150371),\n",
            " ( -97.52821213,  160.94732155, -32.55848361),\n",
            " (-102.35840794,  159.04091255, -34.18485139),\n",
            " (-107.17990809,  157.02951501, -35.81044549),\n",
            " (-111.99179833,  154.91133406, -37.43507868),\n",
            " (-116.79308071,  152.68447317, -39.05853463),\n",
            " (-121.58266627,  150.34693205, -40.680564  ),\n",
            " (-126.35936702,  147.8966046 , -42.30087985),\n",
            " (-131.12188744,  145.3312769 , -43.91915205),\n",
            " (-135.86881506,  142.64862538, -45.53500065),\n",
            " (-140.59861042,  139.84621515, -47.14798777),\n",
            " (-145.30959597,  136.92149862, -48.7576075 ),\n",
            " (-149.99994414,  133.87181451, -50.36327335),\n",
            " (-154.66766421,  130.69438732, -51.96430217),\n",
            " (-159.31058806,  127.38632748, -53.5598935 ),\n",
            " (-163.92635444,  123.94463237, -55.14910221),\n",
            " (-168.51239177,  120.36618853, -56.73080199),\n",
            " (-173.06589906,  116.64777533, -58.30363528),\n",
            " (-177.5838248 ,  112.78607078, -59.86594347),\n",
            " (-182.06284323,  108.7776602 , -61.41566708),\n",
            " (-186.49932756,  104.61904874, -62.95019972),\n",
            " (-190.88931909,  100.30667963, -64.46616906),\n",
            " (-195.22849117,   95.83696063, -65.95909926),\n",
            " (-199.51210561,   91.20630292, -67.42287687),\n",
            " (-203.73495847,   86.4111794 , -68.84888355),\n",
            " (-207.89130957,   81.44821423, -70.22455685),\n",
            " (-211.97478664,   76.31432383, -71.53097799),\n",
            " (-215.97824996,   71.00694359, -72.73890314),\n",
            " (-219.8935992 ,   65.52439262, -73.80280353),\n",
            " (-223.71151552,   59.86643157, -74.65435563),\n",
            " (-227.42119881,   54.03498238, -75.20316512),\n",
            " (-231.01032197,   48.03468764, -75.35979796),\n",
            " (-234.46551309,   41.87268187, -75.07985503),\n",
            " (-237.77330751,   35.55736894, -74.38773095),\n",
            " (-240.92096638,   29.09702414, -73.35179231),\n",
            " (-243.89671455,   22.49912989, -72.04381243),\n",
            " (-246.68955247,   15.77044863, -70.51889597),\n",
            " (-249.28897738,    8.91737163, -68.81432608),\n",
            " (-251.68477338,    1.94625381, -66.95440459),\n",
            " (-253.86688923,   -5.1363376 , -64.9550741 ),\n",
            " (-255.82538171,  -12.32345011, -62.82710321),\n",
            " (-257.55040285,  -19.60762539, -60.57809144),\n",
            " (-259.03221616,  -26.9808135 , -58.21370912),\n",
            " (-260.261233  ,  -34.43431063, -55.73847291),\n",
            " (-261.22806396,  -41.95871411, -53.15624252),\n",
            " (-261.92358174,  -49.54389114, -50.47054829),\n",
            " (-262.3389935 ,  -57.17895965, -47.68481361),\n",
            " (-262.4659209 ,  -64.8522806 , -44.80251038),\n",
            " (-262.29648645,  -72.55146166, -41.82727012),\n",
            " (-261.82340465,  -80.26337268, -38.76296464),\n",
            " (-261.04007646,  -87.97417326, -35.61376471),\n",
            " (-259.9406855 ,  -95.66935294, -32.38418209),\n",
            " (-258.52029405, -103.33378439, -29.07909811),\n",
            " (-256.7749369 , -110.95178964, -25.70378089),\n",
            " (-254.70171105, -118.50721942, -22.26389259),\n",
            " (-252.29885878, -125.98354513, -18.76548728),\n",
            " (-249.56584201, -133.36396255, -15.21500044),\n",
            " (-246.50340572, -140.63150638, -11.61923017),\n",
            " (-243.11362809, -147.76917386,  -7.985311  ),\n",
            " (-239.39995567, -154.76005555,  -4.32068067),\n",
            " (-235.36722189, -161.58747108,  -0.63304057),\n",
            " (-231.02164763, -168.23510721,   3.06968918),\n",
            " (-226.37082321, -174.68715539,   6.77941916),\n",
            " (-221.42367148, -180.92844606,  10.48794342),\n",
            " (-216.19039235, -186.94457665,  14.18699434),\n",
            " (-210.68238977, -192.7220306 ,  17.86829819),\n",
            " (-204.91218237, -198.24828491,  21.52362993),\n",
            " (-198.8932999 , -203.51190382,  25.14486576),\n",
            " (-192.64016766, -208.50261715,  28.72403172),\n",
            " (-186.16798163, -213.2113817 ,  32.25334686),\n",
            " (-179.49257715, -217.63042519,  35.72525898),\n",
            " (-172.63029408, -221.75327231,  39.13247122),\n",
            " (-165.59784153, -225.57475334,  42.46795718),\n",
            " (-158.41216489, -229.09099597,  45.72496162),\n",
            " (-151.09031805, -232.29940161,  48.89698322),\n",
            " (-143.64934324, -235.19860761,  51.97773373),\n",
            " (-136.10616104, -237.78843736,  54.96106559),\n",
            " (-128.47747275, -240.06984028,  57.8408551 ),\n",
            " (-120.77967758, -242.04482386,  60.61082057),\n",
            " (-113.02880738, -243.71638027,  63.26424125),\n",
            " (-105.2404825 , -245.08841011,  65.79351873),\n",
            " ( -97.42989425, -246.1656463 ,  68.18948028),\n",
            " ( -89.61182272, -246.9535819 ,  70.44024749),\n",
            " ( -81.80070473, -247.45840717,  72.52936389),\n",
            " ( -74.01077686, -247.68696415,  74.43268011),\n",
            " ( -66.2563335 , -247.64673273,  76.11334162),\n",
            " ( -58.55214882, -247.34587144,  77.51479118),\n",
            " ( -50.91406512, -246.79334233,  78.5554009 ),\n",
            " ( -43.35950703, -245.99912164,  79.13850583),\n",
            " ( -35.90718742, -244.97437317,  79.19575444),\n",
            " ( -28.5752934 , -243.73131301,  78.74132138),\n",
            " ( -21.37893403, -242.28265485,  77.87157016),\n",
            " ( -14.32875231, -240.640945  ,  76.70761906),\n",
            " (  -7.43127684, -238.81814332,  75.34820694),\n",
            " (  -0.69003052, -236.82548073,  73.85988861),\n",
            " (   5.89346273, -234.67345592,  72.28475742),\n",
            " (  12.31898897, -232.37187461,  70.64942087),\n",
            " (  18.58720939, -229.92989532,  68.97115053),\n",
            " (  24.69938598, -227.35607242,  67.26156826),\n",
            " (  30.65720294, -224.65839529,  65.52879119),\n",
            " (  36.46264547, -221.84432413,  63.77869094),\n",
            " (  42.11791403, -218.92082315,  62.01565042),\n",
            " (  47.62536141, -215.89439162,  60.24303215),\n",
            " (  52.98744511, -212.771093  ,  58.46347682),\n",
            " (  58.20669045, -209.55658244,  56.67909937),\n",
            " (  63.28566141, -206.2561327 ,  54.89162148),\n",
            " (  68.22693734, -202.87465866,  53.10246352),\n",
            " (  73.03309412, -199.41674034,  51.31280991),\n",
            " (  77.70668892, -195.88664466,  49.52365685),\n",
            " (  82.25024768, -192.28834584,  47.73584777),\n",
            " (  86.666255  , -188.62554459,  45.95010034),\n",
            " (  90.95714589, -184.9016861 ,  44.16702733),\n",
            " (  95.12529902, -181.11997691,  42.38715315),\n",
            " (  99.17303139, -177.28340073,  40.61092698),\n",
            " ( 103.102594  , -173.39473315,  38.83873356),\n",
            " ( 106.91616843, -169.45655547,  37.07090196),\n",
            " ( 110.61586425, -165.47126762,  35.30771296),\n",
            " ( 114.20371702, -161.44110017,  33.54940526),\n",
            " ( 117.68168681, -157.36812557,  31.79618073),\n",
            " ( 121.05165721, -153.25426864,  30.04820894),\n",
            " ( 124.31543468, -149.10131637,  28.30563103),\n",
            " ( 127.4747482 , -144.91092701,  26.56856319),\n",
            " ( 130.53124915, -140.68463862,  24.83709954),\n",
            " ( 133.48651148, -136.42387699,  23.11131482),\n",
            " ( 136.34203187, -132.12996305,  21.39126669),\n",
            " ( 139.09923021, -127.80411982,  19.67699779),\n",
            " ( 141.75944999, -123.44747885,  17.96853762),\n",
            " ( 144.32395886, -119.06108628,  16.26590416),\n",
            " ( 146.79394921, -114.64590846,  14.56910539),\n",
            " ( 149.17053877, -110.20283728,  12.87814066),\n",
            " ( 151.45477117, -105.73269512,  11.1930019 ),\n",
            " ( 153.64761656, -101.23623946,   9.51367477),\n",
            " ( 155.74997216,  -96.71416728,   7.8401397 ),\n",
            " ( 157.76266276,  -92.16711917,   6.17237283),\n",
            " ( 159.68644125,  -87.59568319,   4.51034693),\n",
            " ( 161.52198899,  -83.00039852,   2.8540322 ),\n",
            " ( 163.26991616,  -78.3817589 ,   1.20339709),\n",
            " ( 164.93076213,  -73.74021596,  -0.44159101),\n",
            " ( 166.50499556,  -69.07618226,  -2.080965  ),\n",
            " ( 167.99301461,  -64.39003434,  -3.71475746),\n",
            " ( 169.39514696,  -59.68211551,  -5.34299995),\n",
            " ( 170.71164973,  -54.95273859,  -6.96572238),\n",
            " ( 171.9427094 ,  -50.20218857,  -8.58295241),\n",
            " ( 173.08844147,  -45.43072514, -10.19471478),\n",
            " ( 174.1488902 ,  -40.63858517, -11.80103071),\n",
            " ( 175.12402808,  -35.82598515, -13.40191725),\n",
            " ( 176.01375531,  -30.99312359, -14.99738666),\n",
            " ( 176.81789906,  -26.14018334, -16.5874457 ),\n",
            " ( 177.5362127 ,  -21.26733398, -18.17209496),\n",
            " ( 178.16837485,  -16.37473416, -19.75132812),\n",
            " ( 178.71398831,  -11.46253398, -21.32513119),\n",
            " ( 179.1725789 ,   -6.53087735, -22.89348165),\n",
            " ( 179.54359411,   -1.57990448, -24.45634759),\n",
            " ( 179.82640164,    3.39024563, -26.01368672),\n",
            " ( 180.0202878 ,    8.37943259, -27.56544531),\n",
            " ( 180.12445574,   13.38751193, -29.11155705),\n",
            " ( 180.13802362,   18.41433231, -30.65194173),\n",
            " ( 180.06002248,   23.45973253, -32.18650375),\n",
            " ( 179.88939409,   28.52353846, -33.71513057),\n",
            " ( 179.62498857,   33.60555971, -35.23769075),\n",
            " ( 179.2655619 ,   38.70558616, -36.75403184),\n",
            " ( 178.80977325,   43.82338412, -38.26397792),\n",
            " ( 178.25618213,   48.95869239, -39.76732667),\n",
            " ( 177.60324547,   54.11121784, -41.26384598),\n",
            " ( 176.84931445,   59.28063073, -42.75326982),\n",
            " ( 175.99263129,   64.46655957, -44.2352934 ),\n",
            " ( 175.03132581,   69.66858558, -45.70956711),\n",
            " ( 173.96341203,   74.88623653, -47.17568917),\n",
            " ( 172.78678456,   80.11898011, -48.63319638),\n",
            " ( 171.49921498,   85.36621644, -50.08155235),\n",
            " ( 170.09834831,   90.62726996, -51.52013246),\n",
            " ( 168.58169948,   95.90138021, -52.94820408),\n",
            " ( 166.94665   ,  101.18769167, -54.36490033),\n",
            " ( 165.19044501,  106.48524207, -55.76918455),\n",
            " ( 163.31019083,  111.79294927, -57.15980131),\n",
            " ( 161.30285331,  117.10959596, -58.53520747),\n",
            " ( 159.16525758,  122.43381176, -59.89347313),\n",
            " ( 156.89408965,  127.76405194, -61.23213615),\n",
            " ( 154.485901  ,  133.09857135, -62.54798331),\n",
            " ( 151.93711794,  138.43539173, -63.83671341),\n",
            " ( 149.24405816,  143.77225926, -65.0924062 ),\n",
            " ( 146.4029592 ,  149.10658743, -66.30666802),\n",
            " ( 143.41002615,  154.43537691, -67.46723893),\n",
            " ( 140.26151153,  159.75509933, -68.55573302),\n",
            " ( 136.95384759,  165.06152533, -69.54414066),\n",
            " ( 133.48385931,  170.34947426, -70.39020528),\n",
            " ( 129.84907827,  175.61248544, -71.03407272),\n",
            " ( 126.04811143,  180.8425058 , -71.40374919),\n",
            " ( 122.08086473,  186.02986251, -71.43812297),\n",
            " ( 117.94834146,  191.1638009 , -71.1176669 ),\n",
            " ( 113.65202552,  196.2334224 , -70.47193806),\n",
            " ( 109.19326952,  201.22841981, -69.55602799),\n",
            " ( 104.57302978,  206.13926547, -68.42353483),\n",
            " (  99.79190582,  210.95702598, -67.11505461),\n",
            " (  94.85029382,  215.67308984, -65.65822123),\n",
            " (  89.74854062,  220.27894398, -64.07116393),\n",
            " (  84.48706789,  224.76602043, -62.36573387),\n",
            " (  79.0664684 ,  229.12559825, -60.54977126),\n",
            " (  73.48758313,  233.34874326, -58.6285695 ),\n",
            " (  67.75156626,  237.42627296, -56.60580321),\n",
            " (  61.85994313,  241.34873897, -54.48412184),\n",
            " (  55.81466385,  245.10642246, -52.26553806),\n",
            " (  49.61815461,  248.68933994, -49.9516894 ),\n",
            " (  43.27336725,  252.08725804, -47.54402083),\n",
            " (  36.78382778,  255.28971653, -45.04391666),\n",
            " (  30.15368349,  258.28605946, -42.45279977),\n",
            " (  23.38774863,  261.06547419, -39.77220881),\n",
            " (  16.49154788,  263.61703855, -37.0038605 ),\n",
            " (   9.47135701,  265.92977606, -34.14970124),\n",
            " (   2.33423981,  267.99271937, -31.21195076),\n",
            " (  -4.91191969,  269.79498194, -28.19313954),\n",
            " ( -12.25839097,  271.32583754, -25.09614083),\n",
            " ( -19.69557774,  272.57480748, -21.92419789),\n",
            " ( -27.21300706,  273.53175484, -18.68094648),\n",
            " ( -34.79932801,  274.18698484, -15.37043264),\n",
            " ( -42.4423212 ,  274.5313504 , -11.9971254 ),\n",
            " ( -50.12892009,  274.55636128,  -8.56592428),\n",
            " ( -57.84524527,  274.25429536,  -5.0821612 ),\n",
            " ( -65.57665223,  273.61830992,  -1.55159655),\n",
            " ( -73.30779323,  272.64255088,   2.01959095),\n",
            " ( -81.02269319,  271.32225749,   5.62482044),\n",
            " ( -88.70483949,  269.65386014,   9.25713142),\n",
            " ( -96.33728483,  267.63506862,  12.90921218),\n",
            " (-103.90276199,  265.26494841,  16.57343376),\n",
            " (-111.38380889,  262.54398271,  20.2418888 ),\n",
            " (-118.7629019 ,  259.47411815,  23.90643445),\n",
            " (-126.02259501,  256.05879256,  27.55873786),\n",
            " (-133.14566206,  252.30294351,  31.19032309),\n",
            " (-140.11523923,  248.21299721,  34.79261715),\n",
            " (-146.91496472,  243.79683746,  38.3569931 ),\n",
            " (-153.52911264,  239.0637555 ,  41.87480717),\n",
            " (-159.94271832,  234.02438189,  45.33742618),\n",
            " (-166.14169233,  228.69060233,  48.73624029),\n",
            " (-172.11292105,  223.07545991,  52.0626544 ),\n",
            " (-177.84435182,  217.19304691,  55.30804825),\n",
            " (-183.32506128,  211.05838968,  58.46369048),\n",
            " (-188.5453057 ,  204.68733123,  61.52058316),\n",
            " (-193.49655276,  198.09641657,  64.46919836),\n",
            " (-198.17149415,  191.30278771,  67.29904159),\n",
            " (-202.56403849,  184.3240974 ,  69.9979283 ),\n",
            " (-206.6692839 ,  177.17845526,  72.55077052),\n",
            " (-210.48346839,  169.88442773,  74.93750987),\n",
            " (-214.00389542,  162.46112764,  77.12956645),\n",
            " (-217.22883094,  154.92845238,  79.08386355),\n",
            " (-220.15737303,  147.30755541,  80.73380792),\n",
            " (-222.78932429,  139.6216069 ,  81.98051112),\n",
            " (-225.12518861,  131.89661391,  82.70087695),\n",
            " (-227.16654125,  124.16131811,  82.80004888),\n",
            " (-228.91684588,  116.44491258,  82.28616259),\n",
            " (-230.382145  ,  108.77333687,  81.27604578),\n",
            " (-231.57093324,  101.16693975,  79.92001321),\n",
            " (-232.49337012,   93.64063092,  78.3390086 ),\n",
            " (-233.16045573,   86.20520787,  76.61283643),\n",
            " (-233.58346493,   78.86860951,  74.79107048),\n",
            " (-233.77361647,   71.63677626,  72.90469285),\n",
            " (-233.74188777,   64.51419517,  70.97371517),\n",
            " (-233.49891152,   57.50424934,  69.011605  ),\n",
            " (-233.05491814,   50.6094523 ,  67.0278044 ),\n",
            " (-232.41970527,   43.83161398,  65.02918506),\n",
            " (-231.60262363,   37.17196446,  63.02091332),\n",
            " (-230.61257354,   30.63125019,  61.00698161),\n",
            " (-229.45800836,   24.20981144,  58.99054602),\n",
            " (-228.14694277,   17.90764622,  56.97414783),\n",
            " (-226.68696424,   11.72446404,  54.95986352),\n",
            " (-225.08524672,    5.65973161,  52.94940922),\n",
            " (-223.34856579,   -0.28728775,  50.94421574),\n",
            " (-221.48331474,   -6.11750016,  48.94548354),\n",
            " (-219.49552111,  -11.83195158,  46.95422425),\n",
            " (-217.39086345,  -17.43180205,  44.97129256),\n",
            " (-215.17468798,  -22.9183033 ,  42.99741122),\n",
            " (-212.85202505,  -28.29277902,  41.0331911 ),\n",
            " (-210.42760527,  -33.5566078 ,  39.0791474 ),\n",
            " (-207.90587507,  -38.71120813,  37.13571301),\n",
            " (-205.2910119 ,  -43.75802534,  35.20324972),\n",
            " (-202.58693864,  -48.69852016,  33.28205755),\n",
            " (-199.79733761,  -53.53415885,  31.37238282),\n",
            " (-196.92566378,  -58.26640448,  29.47442496),\n",
            " (-193.97515744,  -62.89670947,  27.58834251),\n",
            " (-190.94885622,  -67.42650902,  25.71425823),\n",
            " (-187.84960648,  -71.85721549,  23.85226366),\n",
            " (-184.68007409,  -76.19021349,  22.00242308),\n",
            " (-181.44275462,  -80.42685565,  20.16477702)] kpc / Gyr\n"
          ]
        }
      ],
      "source": [
        "print(orbit)"
      ]
    },
    {
      "cell_type": "code",
      "execution_count": null,
      "id": "fc7dc06a",
      "metadata": {
        "id": "fc7dc06a",
        "outputId": "04a7564f-76fe-4329-af4b-95880b94dcaa",
        "colab": {
          "base_uri": "https://localhost:8080/",
          "height": 474
        }
      },
      "outputs": [
        {
          "output_type": "execute_result",
          "data": {
            "text/plain": [
              "<Figure size 500x500 with 1 Axes>"
            ],
            "image/png": "[encoded data removed]"
          },
          "metadata": {},
          "execution_count": 52
        }
      ],
      "source": [
        "orbit.plot(['x', 'y'], axes=ax1, color='blue')"
      ]
    },
    {
      "cell_type": "code",
      "execution_count": null,
      "id": "3b839273",
      "metadata": {
        "id": "3b839273",
        "outputId": "7ade0292-991d-4431-e3a5-d07f8e75ca9f",
        "colab": {
          "base_uri": "https://localhost:8080/",
          "height": 474
        }
      },
      "outputs": [
        {
          "output_type": "execute_result",
          "data": {
            "text/plain": [
              "<Figure size 500x500 with 1 Axes>"
            ],
            "image/png": "[encoded data removed]"
          },
          "metadata": {},
          "execution_count": 53
        }
      ],
      "source": [
        "orbit.plot(['x', 'z'], axes=ax2, color='purple')"
      ]
    },
    {
      "cell_type": "markdown",
      "id": "a8a727a9",
      "metadata": {
        "id": "a8a727a9"
      },
      "source": [
        "# Exercício\n",
        "\n",
        "Repita o procedimento de integração sobre um potencial analítico, porém dessa vez utilizando várias partículas-teste (várias posições no espaço de fase). Experimente utilizar diferentes potenciais e diferentes condições iniciais.\n",
        "\n",
        "Dica: ao invés de utilizar um único objeto, **utilize arrays**:\n",
        "```python\n",
        "pos_array = ???\n",
        "vel_array = ???\n",
        "w = gd.PhaseSpacePosition(pos=pos_array * u.kpc,\n",
        "                             vel=vel_array * u.km/u.s)\n",
        "```\n",
        "Assim, após a integração, cada linha da matriz `orbit` irá armazenar (ao invés de um) vários vetores de posições (um para cada partícula). Cada índice representa um instante no tempo.\n",
        "```python\n",
        "orbit[0] # posições de todas as partículas ao início da simulação\n",
        "orbit[11] # posições de todas as partículas no 10° passo de tempo\n",
        "orbit[-1] # posições de todas as partículas ao fim da simulação\n",
        "```\n",
        "\n",
        "**Cuidado!** Os arrays que contém informações de várias partículas devem ter um formato específico, confira https://gala.adrian.pw/en/latest/conventions.html#array-shapes"
      ]
    },
    {
      "cell_type": "code",
      "execution_count": null,
      "id": "17ca4837",
      "metadata": {
        "id": "17ca4837"
      },
      "outputs": [],
      "source": []
    },
    {
      "cell_type": "code",
      "execution_count": null,
      "id": "99d026fc",
      "metadata": {
        "id": "99d026fc"
      },
      "outputs": [],
      "source": []
    },
    {
      "cell_type": "markdown",
      "id": "7ec792d1",
      "metadata": {
        "id": "7ec792d1"
      },
      "source": [
        "# Ademais\n",
        "\n",
        "É encorajado explorar os vários tutoriais, bem como o user guide, presentes no site do projeto: https://gala.adrian.pw/\n",
        "\n",
        "Existem outros pacotes interessantes e muito úteis para pesquisa em dinâmica galáctica:\n",
        "* https://www.galpy.org/\n",
        "* https://github.com/GalacticDynamics-Oxford/Agama\n",
        "\n",
        "Livro-texto online sobre dinâmica galáctica:\n",
        "* https://galaxiesbook.org/"
      ]
    }
  ],
  "metadata": {
    "kernelspec": {
      "display_name": "Python 3 (ipykernel)",
      "language": "python",
      "name": "python3"
    },
    "language_info": {
      "codemirror_mode": {
        "name": "ipython",
        "version": 3
      },
      "file_extension": ".py",
      "mimetype": "text/x-python",
      "name": "python",
      "nbconvert_exporter": "python",
      "pygments_lexer": "ipython3",
      "version": "3.8.10"
    },
    "colab": {
      "provenance": [],
      "include_colab_link": true
    }
  },
  "nbformat": 4,
  "nbformat_minor": 5
}